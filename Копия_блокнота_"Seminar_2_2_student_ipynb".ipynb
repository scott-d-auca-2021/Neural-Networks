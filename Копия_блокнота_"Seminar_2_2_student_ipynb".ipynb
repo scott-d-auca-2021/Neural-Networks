{
  "cells": [
    {
      "cell_type": "markdown",
      "metadata": {
        "id": "view-in-github",
        "colab_type": "text"
      },
      "source": [
        "<a href=\"https://colab.research.google.com/github/scott-d-auca-2021/Neural-Networks/blob/main/%D0%9A%D0%BE%D0%BF%D0%B8%D1%8F_%D0%B1%D0%BB%D0%BE%D0%BA%D0%BD%D0%BE%D1%82%D0%B0_%22Seminar_2_2_student_ipynb%22.ipynb\" target=\"_parent\"><img src=\"https://colab.research.google.com/assets/colab-badge.svg\" alt=\"Open In Colab\"/></a>"
      ]
    },
    {
      "cell_type": "markdown",
      "metadata": {
        "id": "I8uLQ8FnDruU"
      },
      "source": [
        "__*Attribute Information:*__\n",
        "- Alcohol\n",
        "- Malic acid\n",
        "- Ash\n",
        "- Alcalinity of ash\n",
        "- Magnesium\n",
        "- Total phenols\n",
        "- Flavanoids\n",
        "- Nonflavanoid phenols\n",
        "- Proanthocyanins\n",
        "- Color intensity\n",
        "- Hue\n",
        "- OD280/OD315 of diluted wines\n",
        "- Proline\n",
        "\n",
        "__*class:*__\n",
        "- class_0\n",
        "- class_1\n",
        "- class_2\n",
        "\n",
        "This is a copy of UCI ML Wine recognition datasets. https://archive.ics.uci.edu/ml/machine-learning-databases/wine/wine.data\n",
        "\n",
        "The data is the results of a chemical analysis of wines grown in the same region in Italy by three different cultivators. There are thirteen different measurements taken for different constituents found in the three types of wine.\n",
        "\n",
        "__*Original Owners:*__\n",
        "\n",
        "Forina, M. et al, PARVUS - An Extendible Package for Data Exploration, Classification and Correlation. Institute of Pharmaceutical and Food Analysis and Technologies, Via Brigata Salerno, 16147 Genoa, Italy.\n",
        "\n",
        "__*Citation:*__\n",
        "\n",
        "Lichman, M. (2013). UCI Machine Learning Repository [https://archive.ics.uci.edu/ml]. Irvine, CA: University of California, School of Information and Computer Science.\n",
        "\n",
        "__*References*__\n",
        "\n",
        "(1) S. Aeberhard, D. Coomans and O. de Vel, Comparison of Classifiers in High Dimensional Settings, Tech. Rep. no. 92-02, (1992), Dept. of Computer Science and Dept. of Mathematics and Statistics, James Cook University of North Queensland. (Also submitted to Technometrics).\n",
        "\n",
        "The data was used with many others for comparing various classifiers. The classes are separable, though only RDA has achieved 100% correct classification. (RDA : 100%, QDA 99.4%, LDA 98.9%, 1NN 96.1% (z-transformed data)) (All results using the leave-one-out technique)\n",
        "\n",
        "(2) S. Aeberhard, D. Coomans and O. de Vel, “THE CLASSIFICATION PERFORMANCE OF RDA” Tech. Rep. no. 92-01, (1992), Dept. of Computer Science and Dept. of Mathematics and Statistics, James Cook University of North Queensland. (Also submitted to Journal of Chemometrics)."
      ]
    },
    {
      "cell_type": "code",
      "execution_count": 1,
      "metadata": {
        "id": "a8Yc9SRfDruY"
      },
      "outputs": [],
      "source": [
        "import torch\n",
        "import random\n",
        "import numpy as np\n",
        "\n",
        "random.seed(0)\n",
        "np.random.seed(0)\n",
        "torch.manual_seed(0)\n",
        "torch.cuda.manual_seed(0)\n",
        "torch.backends.cudnn.deterministic = True"
      ]
    },
    {
      "cell_type": "markdown",
      "metadata": {
        "id": "twHKHyU7DruZ"
      },
      "source": [
        "# Step 0. Data preparation"
      ]
    },
    {
      "cell_type": "code",
      "execution_count": 2,
      "metadata": {
        "id": "Os0FJolfDrua",
        "colab": {
          "base_uri": "https://localhost:8080/"
        },
        "outputId": "ee10503d-1bb9-4ac8-9b87-5482456c5a60"
      },
      "outputs": [
        {
          "output_type": "execute_result",
          "data": {
            "text/plain": [
              "(178, 13)"
            ]
          },
          "metadata": {},
          "execution_count": 2
        }
      ],
      "source": [
        "import sklearn.datasets\n",
        "wine = sklearn.datasets.load_wine()\n",
        "wine.data.shape"
      ]
    },
    {
      "cell_type": "code",
      "execution_count": 3,
      "metadata": {
        "id": "xvZpyR5WDrua"
      },
      "outputs": [],
      "source": [
        "from sklearn.model_selection import train_test_split\n",
        "\n",
        "X_train, X_test, y_train, y_test = train_test_split(\n",
        "    wine.data[:, :2],\n",
        "    wine.target,\n",
        "    test_size=0.3,\n",
        "    shuffle=True)\n",
        "\n",
        "X_train = torch.FloatTensor(X_train)\n",
        "X_test = torch.FloatTensor(X_test)\n",
        "y_train = torch.LongTensor(y_train)\n",
        "y_test = torch.LongTensor(y_test)"
      ]
    },
    {
      "cell_type": "markdown",
      "metadata": {
        "id": "YfC5iREzDrua"
      },
      "source": [
        "# Step 1. Preparing a neural network model"
      ]
    },
    {
      "cell_type": "markdown",
      "metadata": {
        "id": "ilTrL4CxDrua"
      },
      "source": [
        "## Step 1.1. Model architecture"
      ]
    },
    {
      "cell_type": "code",
      "execution_count": 12,
      "metadata": {
        "id": "Cof8-1X-Drub"
      },
      "outputs": [],
      "source": [
        "class WineNet(torch.nn.Module):\n",
        "    def __init__(self, n_hidden_neurons):\n",
        "        super(WineNet, self).__init__()\n",
        "        self.fc1 = torch.nn.Linear(2, n_hidden_neurons)\n",
        "        self.activ1 = torch.nn.Sigmoid()\n",
        "        self.fc2 = torch.nn.Linear(n_hidden_neurons, n_hidden_neurons)\n",
        "        self.activ2 = torch.nn.Sigmoid()\n",
        "        self.fc3 = torch.nn.Linear(n_hidden_neurons, 3)\n",
        "        self.sm = torch.nn.Softmax(dim=1)\n",
        "\n",
        "    def forward(self, x):\n",
        "      x = self.fc1(x)\n",
        "      x = self.activ1(x)\n",
        "      x = self.fc2(x)\n",
        "      x = self.activ2(x)\n",
        "      x = self.fc3(x)\n",
        "      return x\n",
        "\n",
        "    def inference(self, x):\n",
        "      x = self.forward(x)\n",
        "      x = self.sm(x)\n",
        "      return x\n",
        "\n",
        "\n",
        "wine_net = WineNet(5)"
      ]
    },
    {
      "cell_type": "markdown",
      "metadata": {
        "id": "QqVLI1IfDrub"
      },
      "source": [
        "## Step 1.2. Loss function"
      ]
    },
    {
      "cell_type": "code",
      "execution_count": 13,
      "metadata": {
        "id": "yO5ut9ttDrub"
      },
      "outputs": [],
      "source": [
        "loss = torch.nn.CrossEntropyLoss()\n"
      ]
    },
    {
      "cell_type": "markdown",
      "metadata": {
        "id": "q50o1ReYDruc"
      },
      "source": [
        "## Step 1.3. Optimizer"
      ]
    },
    {
      "cell_type": "code",
      "execution_count": 14,
      "metadata": {
        "id": "_t50CkrFDruc"
      },
      "outputs": [],
      "source": [
        "optimizer = torch.optim.Adam(wine_net.parameters(), lr=0.001)"
      ]
    },
    {
      "cell_type": "markdown",
      "metadata": {
        "id": "t_qk5P1jDruc"
      },
      "source": [
        "# Step 2. Training loop"
      ]
    },
    {
      "cell_type": "code",
      "execution_count": 4,
      "metadata": {
        "id": "3I5EIqdEDruc",
        "colab": {
          "base_uri": "https://localhost:8080/"
        },
        "outputId": "d77ad4dc-840b-4ab2-cc87-78c116783650"
      },
      "outputs": [
        {
          "output_type": "execute_result",
          "data": {
            "text/plain": [
              "array([2, 0, 1, 4, 3])"
            ]
          },
          "metadata": {},
          "execution_count": 4
        }
      ],
      "source": [
        "np.random.permutation(5)"
      ]
    },
    {
      "cell_type": "code",
      "execution_count": 17,
      "metadata": {
        "scrolled": false,
        "id": "sst2wbfZDruc",
        "colab": {
          "base_uri": "https://localhost:8080/"
        },
        "outputId": "b02ec0c7-cbcc-4c10-9918-b718f61b65c9"
      },
      "outputs": [
        {
          "output_type": "stream",
          "name": "stdout",
          "text": [
            "tensor(0.8333)\n",
            "tensor(0.8333)\n",
            "tensor(0.8519)\n",
            "tensor(0.8333)\n",
            "tensor(0.8333)\n",
            "tensor(0.8333)\n",
            "tensor(0.8519)\n",
            "tensor(0.8519)\n",
            "tensor(0.8519)\n",
            "tensor(0.8704)\n"
          ]
        }
      ],
      "source": [
        "batch_size = 10\n",
        "\n",
        "for epoch in range(1000):\n",
        "    order = np.random.permutation(len(X_train))\n",
        "    for start_index in range(0, len(X_train), batch_size):\n",
        "      optimizer.zero_grad()\n",
        "\n",
        "\n",
        "      batch_indexes = order[start_index:start_index+batch_size]\n",
        "\n",
        "      x_batch = X_train[batch_indexes]\n",
        "\n",
        "      y_batch = y_train[batch_indexes]\n",
        "\n",
        "      pred = wine_net.forward(x_batch)\n",
        "\n",
        "      loss_value = loss(pred, y_batch)\n",
        "      loss_value.backward()\n",
        "\n",
        "      optimizer.step()\n",
        "\n",
        "\n",
        "    if epoch % 100 == 0:\n",
        "      test_preds = wine_net.forward(X_test)\n",
        "      test_preds = test_preds.argmax(dim=1)\n",
        "      print((test_preds == y_test).float().mean())\n"
      ]
    },
    {
      "cell_type": "markdown",
      "metadata": {
        "id": "cutRPeVsDruc"
      },
      "source": [
        "# Step 3. Visualization of dividing surfaces."
      ]
    },
    {
      "cell_type": "code",
      "execution_count": 11,
      "metadata": {
        "id": "c_hEXGh7Druc",
        "colab": {
          "base_uri": "https://localhost:8080/",
          "height": 820
        },
        "outputId": "482f1ff6-18d2-4d31-eacf-9feadf7030e9"
      },
      "outputs": [
        {
          "output_type": "stream",
          "name": "stderr",
          "text": [
            "/usr/local/lib/python3.10/dist-packages/torch/functional.py:504: UserWarning: torch.meshgrid: in an upcoming release, it will be required to pass the indexing argument. (Triggered internally at ../aten/src/ATen/native/TensorShape.cpp:3483.)\n",
            "  return _VF.meshgrid(tensors, **kwargs)  # type: ignore[attr-defined]\n",
            "<ipython-input-11-4ffbf2cfa672>:25: UserWarning: Creating a tensor from a list of numpy.ndarrays is extremely slow. Please consider converting the list to a single numpy.ndarray with numpy.array() before converting to a tensor. (Triggered internally at ../torch/csrc/utils/tensor_new.cpp:245.)\n",
            "  plt.scatter(X_train[indexes, 0],\n",
            "<ipython-input-11-4ffbf2cfa672>:25: UserWarning: No data for colormapping provided via 'c'. Parameters 'cmap' will be ignored\n",
            "  plt.scatter(X_train[indexes, 0],\n"
          ]
        },
        {
          "output_type": "display_data",
          "data": {
            "text/plain": [
              "<Figure size 1000x800 with 1 Axes>"
            ],
            "image/png": "[encoded data removed]"
          },
          "metadata": {}
        }
      ],
      "source": [
        "import matplotlib.pyplot as plt\n",
        "%matplotlib inline\n",
        "\n",
        "plt.rcParams['figure.figsize'] = (10, 8)\n",
        "\n",
        "n_classes = 3\n",
        "plot_colors = ['g', 'orange', 'black']\n",
        "plot_step = 0.02\n",
        "\n",
        "x_min, x_max = X_train[:, 0].min() - 1, X_train[:, 0].max() + 1\n",
        "y_min, y_max = X_train[:, 1].min() - 1, X_train[:, 1].max() + 1\n",
        "\n",
        "xx, yy =  torch.meshgrid(torch.arange(x_min, x_max, plot_step),\n",
        "                         torch.arange(y_min, y_max, plot_step))\n",
        "\n",
        "preds = wine_net.inference(\n",
        "    torch.cat([xx.reshape(-1, 1), yy.reshape(-1, 1)], dim=1))\n",
        "\n",
        "preds_class = preds.data.numpy().argmax(axis=1)\n",
        "preds_class = preds_class.reshape(xx.shape)\n",
        "plt.contourf(xx, yy, preds_class, cmap='Accent')\n",
        "\n",
        "for i, color in zip(range(n_classes), plot_colors):\n",
        "    indexes = np.where(y_train == i)\n",
        "    plt.scatter(X_train[indexes, 0],\n",
        "                X_train[indexes, 1],\n",
        "                c=color,\n",
        "                label=wine.target_names[i],\n",
        "                cmap='Accent')\n",
        "    plt.xlabel(wine.feature_names[0])\n",
        "    plt.ylabel(wine.feature_names[1])\n",
        "    plt.legend()"
      ]
    },
    {
      "cell_type": "markdown",
      "metadata": {
        "id": "U-FB_DUgDrud"
      },
      "source": [
        "# Step 4. Homework (60 points)"
      ]
    },
    {
      "cell_type": "markdown",
      "metadata": {
        "id": "kv8pHhkRDrud"
      },
      "source": [
        "Let's practice with WineNet. Modify the architecture so that all 13 features are accepted as input and perform the following experiments:\n",
        "\n",
        "1. Experiment with the number of neurons in the hidden layers. Try putting a very small number. Is there a threshold value for the number of hidden neurons at which learning becomes impossible?\n",
        "\n",
        "2. Try passing different test_size values to the train_test_split function. At what value of test_size does the network predict worse than Base Rate*? And what is the Base Rate of the wine dataset?\n",
        "\n",
        "3. Does the training time per epoch depend on the batch size? Explore this relationship.\n",
        "\n",
        "As a report attach code and graphs that show all the necessary dependencies."
      ]
    },
    {
      "cell_type": "markdown",
      "source": [
        "Task 1"
      ],
      "metadata": {
        "id": "OYw0kZmmODEG"
      }
    },
    {
      "cell_type": "markdown",
      "source": [
        "15 neurons"
      ],
      "metadata": {
        "id": "tjMiU--COuJa"
      }
    },
    {
      "cell_type": "code",
      "execution_count": 19,
      "metadata": {
        "id": "P201uLgbDrud",
        "colab": {
          "base_uri": "https://localhost:8080/"
        },
        "outputId": "8e6594b1-cd98-491c-8e84-510cb1c054af"
      },
      "outputs": [
        {
          "output_type": "stream",
          "name": "stdout",
          "text": [
            "tensor(0.2407)\n",
            "tensor(0.4630)\n",
            "tensor(0.6667)\n",
            "tensor(0.7593)\n",
            "tensor(0.8148)\n",
            "tensor(0.8148)\n",
            "tensor(0.7963)\n",
            "tensor(0.8148)\n",
            "tensor(0.8333)\n",
            "tensor(0.8148)\n"
          ]
        }
      ],
      "source": [
        "import torch\n",
        "import random\n",
        "import numpy as np\n",
        "\n",
        "random.seed(0)\n",
        "np.random.seed(0)\n",
        "torch.manual_seed(0)\n",
        "torch.cuda.manual_seed(0)\n",
        "torch.backends.cudnn.deterministic = True\n",
        "\n",
        "import sklearn.datasets\n",
        "wine = sklearn.datasets.load_wine()\n",
        "wine.data.shape\n",
        "\n",
        "from sklearn.model_selection import train_test_split\n",
        "\n",
        "X_train, X_test, y_train, y_test = train_test_split(\n",
        "    wine.data[:, :2],\n",
        "    wine.target,\n",
        "    test_size=0.3,\n",
        "    shuffle=True)\n",
        "\n",
        "X_train = torch.FloatTensor(X_train)\n",
        "X_test = torch.FloatTensor(X_test)\n",
        "y_train = torch.LongTensor(y_train)\n",
        "y_test = torch.LongTensor(y_test)\n",
        "\n",
        "class WineNet(torch.nn.Module):\n",
        "    def __init__(self, n_hidden_neurons):\n",
        "        super(WineNet, self).__init__()\n",
        "        self.fc1 = torch.nn.Linear(2, n_hidden_neurons)\n",
        "        self.activ1 = torch.nn.Sigmoid()\n",
        "        self.fc2 = torch.nn.Linear(n_hidden_neurons, n_hidden_neurons)\n",
        "        self.activ2 = torch.nn.Sigmoid()\n",
        "        self.fc3 = torch.nn.Linear(n_hidden_neurons, 3)\n",
        "        self.sm = torch.nn.Softmax(dim=1)\n",
        "\n",
        "    def forward(self, x):\n",
        "      x = self.fc1(x)\n",
        "      x = self.activ1(x)\n",
        "      x = self.fc2(x)\n",
        "      x = self.activ2(x)\n",
        "      x = self.fc3(x)\n",
        "      return x\n",
        "\n",
        "    def inference(self, x):\n",
        "      x = self.forward(x)\n",
        "      x = self.sm(x)\n",
        "      return x\n",
        "\n",
        "\n",
        "wine_net = WineNet(15)\n",
        "loss = torch.nn.CrossEntropyLoss()\n",
        "optimizer = torch.optim.Adam(wine_net.parameters(), lr=0.001)\n",
        "#np.random.permutation(15)\n",
        "\n",
        "batch_size = 10\n",
        "\n",
        "for epoch in range(1000):\n",
        "    order = np.random.permutation(len(X_train))\n",
        "    for start_index in range(0, len(X_train), batch_size):\n",
        "      optimizer.zero_grad()\n",
        "\n",
        "      batch_indexes = order[start_index:start_index+batch_size]\n",
        "      x_batch = X_train[batch_indexes]\n",
        "      y_batch = y_train[batch_indexes]\n",
        "      pred = wine_net.forward(x_batch)\n",
        "      loss_value = loss(pred, y_batch)\n",
        "      loss_value.backward()\n",
        "\n",
        "      optimizer.step()\n",
        "\n",
        "\n",
        "    if epoch % 100 == 0:\n",
        "      test_preds = wine_net.forward(X_test)\n",
        "      test_preds = test_preds.argmax(dim=1)\n",
        "      print((test_preds == y_test).float().mean())\n"
      ]
    },
    {
      "cell_type": "markdown",
      "source": [
        "22 neurons"
      ],
      "metadata": {
        "id": "iVChLvHyOzWn"
      }
    },
    {
      "cell_type": "code",
      "source": [
        "import torch\n",
        "import random\n",
        "import numpy as np\n",
        "\n",
        "random.seed(0)\n",
        "np.random.seed(0)\n",
        "torch.manual_seed(0)\n",
        "torch.cuda.manual_seed(0)\n",
        "torch.backends.cudnn.deterministic = True\n",
        "\n",
        "import sklearn.datasets\n",
        "wine = sklearn.datasets.load_wine()\n",
        "wine.data.shape\n",
        "\n",
        "from sklearn.model_selection import train_test_split\n",
        "\n",
        "X_train, X_test, y_train, y_test = train_test_split(\n",
        "    wine.data[:, :2],\n",
        "    wine.target,\n",
        "    test_size=0.3,\n",
        "    shuffle=True)\n",
        "\n",
        "X_train = torch.FloatTensor(X_train)\n",
        "X_test = torch.FloatTensor(X_test)\n",
        "y_train = torch.LongTensor(y_train)\n",
        "y_test = torch.LongTensor(y_test)\n",
        "\n",
        "class WineNet(torch.nn.Module):\n",
        "    def __init__(self, n_hidden_neurons):\n",
        "        super(WineNet, self).__init__()\n",
        "        self.fc1 = torch.nn.Linear(2, n_hidden_neurons)\n",
        "        self.activ1 = torch.nn.Sigmoid()\n",
        "        self.fc2 = torch.nn.Linear(n_hidden_neurons, n_hidden_neurons)\n",
        "        self.activ2 = torch.nn.Sigmoid()\n",
        "        self.fc3 = torch.nn.Linear(n_hidden_neurons, 3)\n",
        "        self.sm = torch.nn.Softmax(dim=1)\n",
        "\n",
        "    def forward(self, x):\n",
        "      x = self.fc1(x)\n",
        "      x = self.activ1(x)\n",
        "      x = self.fc2(x)\n",
        "      x = self.activ2(x)\n",
        "      x = self.fc3(x)\n",
        "      return x\n",
        "\n",
        "    def inference(self, x):\n",
        "      x = self.forward(x)\n",
        "      x = self.sm(x)\n",
        "      return x\n",
        "\n",
        "\n",
        "wine_net = WineNet(22)\n",
        "loss = torch.nn.CrossEntropyLoss()\n",
        "optimizer = torch.optim.Adam(wine_net.parameters(), lr=0.001)\n",
        "##np.random.permutation(22)\n",
        "\n",
        "batch_size = 10\n",
        "\n",
        "for epoch in range(1000):\n",
        "    order = np.random.permutation(len(X_train))\n",
        "    for start_index in range(0, len(X_train), batch_size):\n",
        "      optimizer.zero_grad()\n",
        "\n",
        "      batch_indexes = order[start_index:start_index+batch_size]\n",
        "      x_batch = X_train[batch_indexes]\n",
        "      y_batch = y_train[batch_indexes]\n",
        "      pred = wine_net.forward(x_batch)\n",
        "      loss_value = loss(pred, y_batch)\n",
        "      loss_value.backward()\n",
        "\n",
        "      optimizer.step()\n",
        "\n",
        "\n",
        "    if epoch % 100 == 0:\n",
        "      test_preds = wine_net.forward(X_test)\n",
        "      test_preds = test_preds.argmax(dim=1)\n",
        "      print((test_preds == y_test).float().mean())"
      ],
      "metadata": {
        "colab": {
          "base_uri": "https://localhost:8080/"
        },
        "id": "_uFDwZKXNOy-",
        "outputId": "18f2ee9c-684e-4a21-e9f6-6930ad8bd865"
      },
      "execution_count": 20,
      "outputs": [
        {
          "output_type": "stream",
          "name": "stdout",
          "text": [
            "tensor(0.4074)\n",
            "tensor(0.7222)\n",
            "tensor(0.8333)\n",
            "tensor(0.7778)\n",
            "tensor(0.8333)\n",
            "tensor(0.8148)\n",
            "tensor(0.8333)\n",
            "tensor(0.8333)\n",
            "tensor(0.8519)\n",
            "tensor(0.8333)\n"
          ]
        }
      ]
    },
    {
      "cell_type": "markdown",
      "source": [
        "44 neurons"
      ],
      "metadata": {
        "id": "oU03qA5CO4DD"
      }
    },
    {
      "cell_type": "code",
      "source": [
        "import torch\n",
        "import random\n",
        "import numpy as np\n",
        "\n",
        "random.seed(0)\n",
        "np.random.seed(0)\n",
        "torch.manual_seed(0)\n",
        "torch.cuda.manual_seed(0)\n",
        "torch.backends.cudnn.deterministic = True\n",
        "\n",
        "import sklearn.datasets\n",
        "wine = sklearn.datasets.load_wine()\n",
        "wine.data.shape\n",
        "\n",
        "from sklearn.model_selection import train_test_split\n",
        "\n",
        "X_train, X_test, y_train, y_test = train_test_split(\n",
        "    wine.data[:, :2],\n",
        "    wine.target,\n",
        "    test_size=0.3,\n",
        "    shuffle=True)\n",
        "\n",
        "X_train = torch.FloatTensor(X_train)\n",
        "X_test = torch.FloatTensor(X_test)\n",
        "y_train = torch.LongTensor(y_train)\n",
        "y_test = torch.LongTensor(y_test)\n",
        "\n",
        "class WineNet(torch.nn.Module):\n",
        "    def __init__(self, n_hidden_neurons):\n",
        "        super(WineNet, self).__init__()\n",
        "        self.fc1 = torch.nn.Linear(2, n_hidden_neurons)\n",
        "        self.activ1 = torch.nn.Sigmoid()\n",
        "        self.fc2 = torch.nn.Linear(n_hidden_neurons, n_hidden_neurons)\n",
        "        self.activ2 = torch.nn.Sigmoid()\n",
        "        self.fc3 = torch.nn.Linear(n_hidden_neurons, 3)\n",
        "        self.sm = torch.nn.Softmax(dim=1)\n",
        "\n",
        "    def forward(self, x):\n",
        "      x = self.fc1(x)\n",
        "      x = self.activ1(x)\n",
        "      x = self.fc2(x)\n",
        "      x = self.activ2(x)\n",
        "      x = self.fc3(x)\n",
        "      return x\n",
        "\n",
        "    def inference(self, x):\n",
        "      x = self.forward(x)\n",
        "      x = self.sm(x)\n",
        "      return x\n",
        "\n",
        "\n",
        "wine_net = WineNet(44)\n",
        "loss = torch.nn.CrossEntropyLoss()\n",
        "optimizer = torch.optim.Adam(wine_net.parameters(), lr=0.001)\n",
        "#np.random.permutation(15)\n",
        "\n",
        "batch_size = 10\n",
        "\n",
        "for epoch in range(1000):\n",
        "    order = np.random.permutation(len(X_train))\n",
        "    for start_index in range(0, len(X_train), batch_size):\n",
        "      optimizer.zero_grad()\n",
        "\n",
        "      batch_indexes = order[start_index:start_index+batch_size]\n",
        "      x_batch = X_train[batch_indexes]\n",
        "      y_batch = y_train[batch_indexes]\n",
        "      pred = wine_net.forward(x_batch)\n",
        "      loss_value = loss(pred, y_batch)\n",
        "      loss_value.backward()\n",
        "\n",
        "      optimizer.step()\n",
        "\n",
        "\n",
        "    if epoch % 100 == 0:\n",
        "      test_preds = wine_net.forward(X_test)\n",
        "      test_preds = test_preds.argmax(dim=1)\n",
        "      print((test_preds == y_test).float().mean())"
      ],
      "metadata": {
        "colab": {
          "base_uri": "https://localhost:8080/"
        },
        "id": "g82HpnIqN52L",
        "outputId": "5d26d76e-863e-44a2-98ce-32b1dcb8bfc2"
      },
      "execution_count": 21,
      "outputs": [
        {
          "output_type": "stream",
          "name": "stdout",
          "text": [
            "tensor(0.4074)\n",
            "tensor(0.7037)\n",
            "tensor(0.8148)\n",
            "tensor(0.8333)\n",
            "tensor(0.8519)\n",
            "tensor(0.8148)\n",
            "tensor(0.8148)\n",
            "tensor(0.7963)\n",
            "tensor(0.8333)\n",
            "tensor(0.8148)\n"
          ]
        }
      ]
    },
    {
      "cell_type": "code",
      "source": [
        "import torch\n",
        "import random\n",
        "import numpy as np\n",
        "\n",
        "random.seed(0)\n",
        "np.random.seed(0)\n",
        "torch.manual_seed(0)\n",
        "torch.cuda.manual_seed(0)\n",
        "torch.backends.cudnn.deterministic = True\n",
        "\n",
        "import sklearn.datasets\n",
        "wine = sklearn.datasets.load_wine()\n",
        "wine.data.shape\n",
        "\n",
        "from sklearn.model_selection import train_test_split\n",
        "\n",
        "neurons = [5, 15, 22, 44]\n",
        "accuracy = [0.842, 0.697, 0.77, 0.764]\n",
        "\n",
        "plt.plot(neurons, accuracy, '-o')\n",
        "plt.xlabel('Neurons')\n",
        "plt.ylabel('Accuracy')\n",
        "plt.grid(True)\n",
        "plt.show()"
      ],
      "metadata": {
        "colab": {
          "base_uri": "https://localhost:8080/",
          "height": 696
        },
        "id": "kpGXeyZSPxfR",
        "outputId": "0f50adee-2717-4d22-ae82-63701630d9c1"
      },
      "execution_count": 27,
      "outputs": [
        {
          "output_type": "display_data",
          "data": {
            "text/plain": [
              "<Figure size 1000x800 with 1 Axes>"
            ],
            "image/png": "[encoded data removed]"
          },
          "metadata": {}
        }
      ]
    },
    {
      "cell_type": "markdown",
      "source": [
        "Task 2"
      ],
      "metadata": {
        "id": "_OsSlsC4OI1N"
      }
    },
    {
      "cell_type": "markdown",
      "source": [
        "test_size 0.3"
      ],
      "metadata": {
        "id": "JpOa7NUhO66d"
      }
    },
    {
      "cell_type": "code",
      "source": [
        "import torch\n",
        "import random\n",
        "import numpy as np\n",
        "\n",
        "random.seed(0)\n",
        "np.random.seed(0)\n",
        "torch.manual_seed(0)\n",
        "torch.cuda.manual_seed(0)\n",
        "torch.backends.cudnn.deterministic = True\n",
        "\n",
        "import sklearn.datasets\n",
        "wine = sklearn.datasets.load_wine()\n",
        "wine.data.shape\n",
        "\n",
        "from sklearn.model_selection import train_test_split\n",
        "\n",
        "X_train, X_test, y_train, y_test = train_test_split(\n",
        "    wine.data[:, :2],\n",
        "    wine.target,\n",
        "    test_size=0.3,\n",
        "    shuffle=True)\n",
        "\n",
        "X_train = torch.FloatTensor(X_train)\n",
        "X_test = torch.FloatTensor(X_test)\n",
        "y_train = torch.LongTensor(y_train)\n",
        "y_test = torch.LongTensor(y_test)\n",
        "\n",
        "class WineNet(torch.nn.Module):\n",
        "    def __init__(self, n_hidden_neurons):\n",
        "        super(WineNet, self).__init__()\n",
        "        self.fc1 = torch.nn.Linear(2, n_hidden_neurons)\n",
        "        self.activ1 = torch.nn.Sigmoid()\n",
        "        self.fc2 = torch.nn.Linear(n_hidden_neurons, n_hidden_neurons)\n",
        "        self.activ2 = torch.nn.Sigmoid()\n",
        "        self.fc3 = torch.nn.Linear(n_hidden_neurons, 3)\n",
        "        self.sm = torch.nn.Softmax(dim=1)\n",
        "\n",
        "    def forward(self, x):\n",
        "      x = self.fc1(x)\n",
        "      x = self.activ1(x)\n",
        "      x = self.fc2(x)\n",
        "      x = self.activ2(x)\n",
        "      x = self.fc3(x)\n",
        "      return x\n",
        "\n",
        "    def inference(self, x):\n",
        "      x = self.forward(x)\n",
        "      x = self.sm(x)\n",
        "      return x\n",
        "\n",
        "\n",
        "wine_net = WineNet(15)\n",
        "loss = torch.nn.CrossEntropyLoss()\n",
        "optimizer = torch.optim.Adam(wine_net.parameters(), lr=0.001)\n",
        "np.random.permutation(15)\n",
        "\n",
        "batch_size = 10\n",
        "\n",
        "for epoch in range(1000):\n",
        "    order = np.random.permutation(len(X_train))\n",
        "    for start_index in range(0, len(X_train), batch_size):\n",
        "      optimizer.zero_grad()\n",
        "\n",
        "      batch_indexes = order[start_index:start_index+batch_size]\n",
        "      x_batch = X_train[batch_indexes]\n",
        "      y_batch = y_train[batch_indexes]\n",
        "      pred = wine_net.forward(x_batch)\n",
        "      loss_value = loss(pred, y_batch)\n",
        "      loss_value.backward()\n",
        "\n",
        "      optimizer.step()\n",
        "\n",
        "\n",
        "    if epoch % 100 == 0:\n",
        "      test_preds = wine_net.forward(X_test)\n",
        "      test_preds = test_preds.argmax(dim=1)\n",
        "      print((test_preds == y_test).float().mean())"
      ],
      "metadata": {
        "colab": {
          "base_uri": "https://localhost:8080/"
        },
        "id": "WWkgbxtaOKd9",
        "outputId": "0270d101-91cd-4999-d150-030467933f19"
      },
      "execution_count": 22,
      "outputs": [
        {
          "output_type": "stream",
          "name": "stdout",
          "text": [
            "tensor(0.2407)\n",
            "tensor(0.4630)\n",
            "tensor(0.6667)\n",
            "tensor(0.7593)\n",
            "tensor(0.8148)\n",
            "tensor(0.8148)\n",
            "tensor(0.7963)\n",
            "tensor(0.8148)\n",
            "tensor(0.8333)\n",
            "tensor(0.8148)\n"
          ]
        }
      ]
    },
    {
      "cell_type": "markdown",
      "source": [
        "test_size 0.5"
      ],
      "metadata": {
        "id": "lEbkq7SgO_iq"
      }
    },
    {
      "cell_type": "code",
      "source": [
        "import torch\n",
        "import random\n",
        "import numpy as np\n",
        "\n",
        "random.seed(0)\n",
        "np.random.seed(0)\n",
        "torch.manual_seed(0)\n",
        "torch.cuda.manual_seed(0)\n",
        "torch.backends.cudnn.deterministic = True\n",
        "\n",
        "import sklearn.datasets\n",
        "wine = sklearn.datasets.load_wine()\n",
        "wine.data.shape\n",
        "\n",
        "from sklearn.model_selection import train_test_split\n",
        "\n",
        "X_train, X_test, y_train, y_test = train_test_split(\n",
        "    wine.data[:, :2],\n",
        "    wine.target,\n",
        "    test_size=0.5,\n",
        "    shuffle=True)\n",
        "\n",
        "X_train = torch.FloatTensor(X_train)\n",
        "X_test = torch.FloatTensor(X_test)\n",
        "y_train = torch.LongTensor(y_train)\n",
        "y_test = torch.LongTensor(y_test)\n",
        "\n",
        "class WineNet(torch.nn.Module):\n",
        "    def __init__(self, n_hidden_neurons):\n",
        "        super(WineNet, self).__init__()\n",
        "        self.fc1 = torch.nn.Linear(2, n_hidden_neurons)\n",
        "        self.activ1 = torch.nn.Sigmoid()\n",
        "        self.fc2 = torch.nn.Linear(n_hidden_neurons, n_hidden_neurons)\n",
        "        self.activ2 = torch.nn.Sigmoid()\n",
        "        self.fc3 = torch.nn.Linear(n_hidden_neurons, 3)\n",
        "        self.sm = torch.nn.Softmax(dim=1)\n",
        "\n",
        "    def forward(self, x):\n",
        "      x = self.fc1(x)\n",
        "      x = self.activ1(x)\n",
        "      x = self.fc2(x)\n",
        "      x = self.activ2(x)\n",
        "      x = self.fc3(x)\n",
        "      return x\n",
        "\n",
        "    def inference(self, x):\n",
        "      x = self.forward(x)\n",
        "      x = self.sm(x)\n",
        "      return x\n",
        "\n",
        "\n",
        "wine_net = WineNet(15)\n",
        "loss = torch.nn.CrossEntropyLoss()\n",
        "optimizer = torch.optim.Adam(wine_net.parameters(), lr=0.001)\n",
        "np.random.permutation(15)\n",
        "\n",
        "batch_size = 10\n",
        "\n",
        "for epoch in range(1000):\n",
        "    order = np.random.permutation(len(X_train))\n",
        "    for start_index in range(0, len(X_train), batch_size):\n",
        "      optimizer.zero_grad()\n",
        "\n",
        "      batch_indexes = order[start_index:start_index+batch_size]\n",
        "      x_batch = X_train[batch_indexes]\n",
        "      y_batch = y_train[batch_indexes]\n",
        "      pred = wine_net.forward(x_batch)\n",
        "      loss_value = loss(pred, y_batch)\n",
        "      loss_value.backward()\n",
        "\n",
        "      optimizer.step()\n",
        "\n",
        "\n",
        "    if epoch % 100 == 0:\n",
        "      test_preds = wine_net.forward(X_test)\n",
        "      test_preds = test_preds.argmax(dim=1)\n",
        "      print((test_preds == y_test).float().mean())"
      ],
      "metadata": {
        "colab": {
          "base_uri": "https://localhost:8080/"
        },
        "id": "cu3SWg1MOfo-",
        "outputId": "977905e4-0163-464a-b5f8-7e8ebd765812"
      },
      "execution_count": 23,
      "outputs": [
        {
          "output_type": "stream",
          "name": "stdout",
          "text": [
            "tensor(0.2697)\n",
            "tensor(0.5056)\n",
            "tensor(0.4382)\n",
            "tensor(0.6180)\n",
            "tensor(0.7191)\n",
            "tensor(0.7416)\n",
            "tensor(0.7528)\n",
            "tensor(0.7528)\n",
            "tensor(0.7528)\n",
            "tensor(0.7640)\n"
          ]
        }
      ]
    },
    {
      "cell_type": "markdown",
      "source": [
        "test_size 0.8"
      ],
      "metadata": {
        "id": "BSs0Su3jPFJk"
      }
    },
    {
      "cell_type": "code",
      "source": [
        "import torch\n",
        "import random\n",
        "import numpy as np\n",
        "\n",
        "random.seed(0)\n",
        "np.random.seed(0)\n",
        "torch.manual_seed(0)\n",
        "torch.cuda.manual_seed(0)\n",
        "torch.backends.cudnn.deterministic = True\n",
        "\n",
        "import sklearn.datasets\n",
        "wine = sklearn.datasets.load_wine()\n",
        "wine.data.shape\n",
        "\n",
        "from sklearn.model_selection import train_test_split\n",
        "\n",
        "X_train, X_test, y_train, y_test = train_test_split(\n",
        "    wine.data[:, :2],\n",
        "    wine.target,\n",
        "    test_size=0.8,\n",
        "    shuffle=True)\n",
        "\n",
        "X_train = torch.FloatTensor(X_train)\n",
        "X_test = torch.FloatTensor(X_test)\n",
        "y_train = torch.LongTensor(y_train)\n",
        "y_test = torch.LongTensor(y_test)\n",
        "\n",
        "class WineNet(torch.nn.Module):\n",
        "    def __init__(self, n_hidden_neurons):\n",
        "        super(WineNet, self).__init__()\n",
        "        self.fc1 = torch.nn.Linear(2, n_hidden_neurons)\n",
        "        self.activ1 = torch.nn.Sigmoid()\n",
        "        self.fc2 = torch.nn.Linear(n_hidden_neurons, n_hidden_neurons)\n",
        "        self.activ2 = torch.nn.Sigmoid()\n",
        "        self.fc3 = torch.nn.Linear(n_hidden_neurons, 3)\n",
        "        self.sm = torch.nn.Softmax(dim=1)\n",
        "\n",
        "    def forward(self, x):\n",
        "      x = self.fc1(x)\n",
        "      x = self.activ1(x)\n",
        "      x = self.fc2(x)\n",
        "      x = self.activ2(x)\n",
        "      x = self.fc3(x)\n",
        "      return x\n",
        "\n",
        "    def inference(self, x):\n",
        "      x = self.forward(x)\n",
        "      x = self.sm(x)\n",
        "      return x\n",
        "\n",
        "\n",
        "wine_net = WineNet(15)\n",
        "loss = torch.nn.CrossEntropyLoss()\n",
        "optimizer = torch.optim.Adam(wine_net.parameters(), lr=0.001)\n",
        "np.random.permutation(15)\n",
        "\n",
        "batch_size = 10\n",
        "\n",
        "for epoch in range(1000):\n",
        "    order = np.random.permutation(len(X_train))\n",
        "    for start_index in range(0, len(X_train), batch_size):\n",
        "      optimizer.zero_grad()\n",
        "\n",
        "      batch_indexes = order[start_index:start_index+batch_size]\n",
        "      x_batch = X_train[batch_indexes]\n",
        "      y_batch = y_train[batch_indexes]\n",
        "      pred = wine_net.forward(x_batch)\n",
        "      loss_value = loss(pred, y_batch)\n",
        "      loss_value.backward()\n",
        "\n",
        "      optimizer.step()\n",
        "\n",
        "\n",
        "    if epoch % 100 == 0:\n",
        "      test_preds = wine_net.forward(X_test)\n",
        "      test_preds = test_preds.argmax(dim=1)\n",
        "      print((test_preds == y_test).float().mean())"
      ],
      "metadata": {
        "colab": {
          "base_uri": "https://localhost:8080/"
        },
        "id": "gNHbI8xHOmKm",
        "outputId": "c851a051-f1e2-44b5-bcb0-92d3849aedf2"
      },
      "execution_count": 24,
      "outputs": [
        {
          "output_type": "stream",
          "name": "stdout",
          "text": [
            "tensor(0.2587)\n",
            "tensor(0.3986)\n",
            "tensor(0.5035)\n",
            "tensor(0.5035)\n",
            "tensor(0.5035)\n",
            "tensor(0.5105)\n",
            "tensor(0.5035)\n",
            "tensor(0.5105)\n",
            "tensor(0.5245)\n",
            "tensor(0.5175)\n"
          ]
        }
      ]
    },
    {
      "cell_type": "markdown",
      "source": [
        "test_size 0.1"
      ],
      "metadata": {
        "id": "YGTbFuHnPIHM"
      }
    },
    {
      "cell_type": "code",
      "source": [
        "import torch\n",
        "import random\n",
        "import numpy as np\n",
        "\n",
        "random.seed(0)\n",
        "np.random.seed(0)\n",
        "torch.manual_seed(0)\n",
        "torch.cuda.manual_seed(0)\n",
        "torch.backends.cudnn.deterministic = True\n",
        "\n",
        "import sklearn.datasets\n",
        "wine = sklearn.datasets.load_wine()\n",
        "wine.data.shape\n",
        "\n",
        "from sklearn.model_selection import train_test_split\n",
        "\n",
        "X_train, X_test, y_train, y_test = train_test_split(\n",
        "    wine.data[:, :2],\n",
        "    wine.target,\n",
        "    test_size=0.1,\n",
        "    shuffle=True)\n",
        "\n",
        "X_train = torch.FloatTensor(X_train)\n",
        "X_test = torch.FloatTensor(X_test)\n",
        "y_train = torch.LongTensor(y_train)\n",
        "y_test = torch.LongTensor(y_test)\n",
        "\n",
        "class WineNet(torch.nn.Module):\n",
        "    def __init__(self, n_hidden_neurons):\n",
        "        super(WineNet, self).__init__()\n",
        "        self.fc1 = torch.nn.Linear(2, n_hidden_neurons)\n",
        "        self.activ1 = torch.nn.Sigmoid()\n",
        "        self.fc2 = torch.nn.Linear(n_hidden_neurons, n_hidden_neurons)\n",
        "        self.activ2 = torch.nn.Sigmoid()\n",
        "        self.fc3 = torch.nn.Linear(n_hidden_neurons, 3)\n",
        "        self.sm = torch.nn.Softmax(dim=1)\n",
        "\n",
        "    def forward(self, x):\n",
        "      x = self.fc1(x)\n",
        "      x = self.activ1(x)\n",
        "      x = self.fc2(x)\n",
        "      x = self.activ2(x)\n",
        "      x = self.fc3(x)\n",
        "      return x\n",
        "\n",
        "    def inference(self, x):\n",
        "      x = self.forward(x)\n",
        "      x = self.sm(x)\n",
        "      return x\n",
        "\n",
        "\n",
        "wine_net = WineNet(15)\n",
        "loss = torch.nn.CrossEntropyLoss()\n",
        "optimizer = torch.optim.Adam(wine_net.parameters(), lr=0.001)\n",
        "np.random.permutation(15)\n",
        "\n",
        "batch_size = 10\n",
        "\n",
        "for epoch in range(1000):\n",
        "    order = np.random.permutation(len(X_train))\n",
        "    for start_index in range(0, len(X_train), batch_size):\n",
        "      optimizer.zero_grad()\n",
        "\n",
        "      batch_indexes = order[start_index:start_index+batch_size]\n",
        "      x_batch = X_train[batch_indexes]\n",
        "      y_batch = y_train[batch_indexes]\n",
        "      pred = wine_net.forward(x_batch)\n",
        "      loss_value = loss(pred, y_batch)\n",
        "      loss_value.backward()\n",
        "\n",
        "      optimizer.step()\n",
        "\n",
        "\n",
        "    if epoch % 100 == 0:\n",
        "      test_preds = wine_net.forward(X_test)\n",
        "      test_preds = test_preds.argmax(dim=1)\n",
        "      print((test_preds == y_test).float().mean())"
      ],
      "metadata": {
        "colab": {
          "base_uri": "https://localhost:8080/"
        },
        "id": "27z8glzqPIy4",
        "outputId": "abf602e9-9f9b-421c-90dd-93303bb79bc9"
      },
      "execution_count": 25,
      "outputs": [
        {
          "output_type": "stream",
          "name": "stdout",
          "text": [
            "tensor(0.2778)\n",
            "tensor(0.5000)\n",
            "tensor(0.6667)\n",
            "tensor(0.8333)\n",
            "tensor(0.8333)\n",
            "tensor(0.8333)\n",
            "tensor(0.8333)\n",
            "tensor(0.8333)\n",
            "tensor(0.8333)\n",
            "tensor(0.8333)\n"
          ]
        }
      ]
    },
    {
      "cell_type": "code",
      "source": [
        "import torch\n",
        "import random\n",
        "import numpy as np\n",
        "\n",
        "random.seed(0)\n",
        "np.random.seed(0)\n",
        "torch.manual_seed(0)\n",
        "torch.cuda.manual_seed(0)\n",
        "torch.backends.cudnn.deterministic = True\n",
        "\n",
        "import sklearn.datasets\n",
        "wine = sklearn.datasets.load_wine()\n",
        "wine.data.shape\n",
        "\n",
        "from sklearn.model_selection import train_test_split\n",
        "\n",
        "test_size = [0.1, 0.3, 0.5, 0.8]\n",
        "accuracy = [0.724, 0.697, 0.626, 0.469]\n",
        "\n",
        "plt.plot(test_size, accuracy, '-o')\n",
        "plt.xlabel('Test Sizes')\n",
        "plt.ylabel('Accuracy')\n",
        "plt.grid(True)\n",
        "plt.show()"
      ],
      "metadata": {
        "colab": {
          "base_uri": "https://localhost:8080/",
          "height": 696
        },
        "id": "HnH9iphbRc-0",
        "outputId": "386febf4-a093-4007-92ce-7a067b17a5b3"
      },
      "execution_count": 28,
      "outputs": [
        {
          "output_type": "display_data",
          "data": {
            "text/plain": [
              "<Figure size 1000x800 with 1 Axes>"
            ],
            "image/png": "[encoded data removed]"
          },
          "metadata": {}
        }
      ]
    },
    {
      "cell_type": "markdown",
      "source": [
        "Task 3"
      ],
      "metadata": {
        "id": "Y0MWQCj6WyYR"
      }
    },
    {
      "cell_type": "code",
      "source": [
        "import torch\n",
        "import random\n",
        "import numpy as np\n",
        "import time\n",
        "\n",
        "random.seed(0)\n",
        "np.random.seed(0)\n",
        "torch.manual_seed(0)\n",
        "torch.cuda.manual_seed(0)\n",
        "torch.backends.cudnn.deterministic = True\n",
        "\n",
        "import sklearn.datasets\n",
        "wine = sklearn.datasets.load_wine()\n",
        "wine.data.shape\n",
        "\n",
        "from sklearn.model_selection import train_test_split\n",
        "\n",
        "X_train, X_test, y_train, y_test = train_test_split(\n",
        "    wine.data[:, :2],\n",
        "    wine.target,\n",
        "    test_size=0.3,\n",
        "    shuffle=True)\n",
        "\n",
        "X_train = torch.FloatTensor(X_train)\n",
        "X_test = torch.FloatTensor(X_test)\n",
        "y_train = torch.LongTensor(y_train)\n",
        "y_test = torch.LongTensor(y_test)\n",
        "\n",
        "class WineNet(torch.nn.Module):\n",
        "    def __init__(self, n_hidden_neurons):\n",
        "        super(WineNet, self).__init__()\n",
        "        self.fc1 = torch.nn.Linear(2, n_hidden_neurons)\n",
        "        self.activ1 = torch.nn.Sigmoid()\n",
        "        self.fc2 = torch.nn.Linear(n_hidden_neurons, n_hidden_neurons)\n",
        "        self.activ2 = torch.nn.Sigmoid()\n",
        "        self.fc3 = torch.nn.Linear(n_hidden_neurons, 3)\n",
        "        self.sm = torch.nn.Softmax(dim=1)\n",
        "\n",
        "    def forward(self, x):\n",
        "      x = self.fc1(x)\n",
        "      x = self.activ1(x)\n",
        "      x = self.fc2(x)\n",
        "      x = self.activ2(x)\n",
        "      x = self.fc3(x)\n",
        "      return x\n",
        "\n",
        "    def inference(self, x):\n",
        "      x = self.forward(x)\n",
        "      x = self.sm(x)\n",
        "      return x\n",
        "\n",
        "\n",
        "wine_net = WineNet(15)\n",
        "loss = torch.nn.CrossEntropyLoss()\n",
        "optimizer = torch.optim.Adam(wine_net.parameters(), lr=0.001)\n",
        "#np.random.permutation(15)\n",
        "\n",
        "batch_size = 5\n",
        "\n",
        "time1 = time.time()\n",
        "\n",
        "for epoch in range(1000):\n",
        "    order = np.random.permutation(len(X_train))\n",
        "    for start_index in range(0, len(X_train), batch_size):\n",
        "      optimizer.zero_grad()\n",
        "\n",
        "      batch_indexes = order[start_index:start_index+batch_size]\n",
        "      x_batch = X_train[batch_indexes]\n",
        "      y_batch = y_train[batch_indexes]\n",
        "      pred = wine_net.forward(x_batch)\n",
        "      loss_value = loss(pred, y_batch)\n",
        "      loss_value.backward()\n",
        "\n",
        "      optimizer.step()\n",
        "\n",
        "\n",
        "    if epoch % 100 == 0:\n",
        "      test_preds = wine_net.forward(X_test)\n",
        "      test_preds = test_preds.argmax(dim=1)\n",
        "      #print((test_preds == y_test).float().mean())\n",
        "\n",
        "print(time.time() - time1)\n"
      ],
      "metadata": {
        "colab": {
          "base_uri": "https://localhost:8080/"
        },
        "id": "WPAznKEPTp-q",
        "outputId": "5e867269-b875-41b5-afcc-d883a1529d36"
      },
      "execution_count": 31,
      "outputs": [
        {
          "output_type": "stream",
          "name": "stdout",
          "text": [
            "45.794780254364014\n"
          ]
        }
      ]
    },
    {
      "cell_type": "code",
      "source": [
        "import torch\n",
        "import random\n",
        "import numpy as np\n",
        "import time\n",
        "\n",
        "random.seed(0)\n",
        "np.random.seed(0)\n",
        "torch.manual_seed(0)\n",
        "torch.cuda.manual_seed(0)\n",
        "torch.backends.cudnn.deterministic = True\n",
        "\n",
        "import sklearn.datasets\n",
        "wine = sklearn.datasets.load_wine()\n",
        "wine.data.shape\n",
        "\n",
        "from sklearn.model_selection import train_test_split\n",
        "\n",
        "X_train, X_test, y_train, y_test = train_test_split(\n",
        "    wine.data[:, :2],\n",
        "    wine.target,\n",
        "    test_size=0.3,\n",
        "    shuffle=True)\n",
        "\n",
        "X_train = torch.FloatTensor(X_train)\n",
        "X_test = torch.FloatTensor(X_test)\n",
        "y_train = torch.LongTensor(y_train)\n",
        "y_test = torch.LongTensor(y_test)\n",
        "\n",
        "class WineNet(torch.nn.Module):\n",
        "    def __init__(self, n_hidden_neurons):\n",
        "        super(WineNet, self).__init__()\n",
        "        self.fc1 = torch.nn.Linear(2, n_hidden_neurons)\n",
        "        self.activ1 = torch.nn.Sigmoid()\n",
        "        self.fc2 = torch.nn.Linear(n_hidden_neurons, n_hidden_neurons)\n",
        "        self.activ2 = torch.nn.Sigmoid()\n",
        "        self.fc3 = torch.nn.Linear(n_hidden_neurons, 3)\n",
        "        self.sm = torch.nn.Softmax(dim=1)\n",
        "\n",
        "    def forward(self, x):\n",
        "      x = self.fc1(x)\n",
        "      x = self.activ1(x)\n",
        "      x = self.fc2(x)\n",
        "      x = self.activ2(x)\n",
        "      x = self.fc3(x)\n",
        "      return x\n",
        "\n",
        "    def inference(self, x):\n",
        "      x = self.forward(x)\n",
        "      x = self.sm(x)\n",
        "      return x\n",
        "\n",
        "\n",
        "wine_net = WineNet(15)\n",
        "loss = torch.nn.CrossEntropyLoss()\n",
        "optimizer = torch.optim.Adam(wine_net.parameters(), lr=0.001)\n",
        "#np.random.permutation(15)\n",
        "\n",
        "batch_size = 13\n",
        "\n",
        "time1 = time.time()\n",
        "\n",
        "for epoch in range(1000):\n",
        "    order = np.random.permutation(len(X_train))\n",
        "    for start_index in range(0, len(X_train), batch_size):\n",
        "      optimizer.zero_grad()\n",
        "\n",
        "      batch_indexes = order[start_index:start_index+batch_size]\n",
        "      x_batch = X_train[batch_indexes]\n",
        "      y_batch = y_train[batch_indexes]\n",
        "      pred = wine_net.forward(x_batch)\n",
        "      loss_value = loss(pred, y_batch)\n",
        "      loss_value.backward()\n",
        "\n",
        "      optimizer.step()\n",
        "\n",
        "\n",
        "    if epoch % 100 == 0:\n",
        "      test_preds = wine_net.forward(X_test)\n",
        "      test_preds = test_preds.argmax(dim=1)\n",
        "      #print((test_preds == y_test).float().mean())\n",
        "\n",
        "print(time.time() - time1)\n"
      ],
      "metadata": {
        "colab": {
          "base_uri": "https://localhost:8080/"
        },
        "id": "nHtm8DdnVWw-",
        "outputId": "b0420e43-cd51-47f7-c976-100bd9317d9f"
      },
      "execution_count": 32,
      "outputs": [
        {
          "output_type": "stream",
          "name": "stdout",
          "text": [
            "13.78000807762146\n"
          ]
        }
      ]
    },
    {
      "cell_type": "code",
      "source": [
        "import torch\n",
        "import random\n",
        "import numpy as np\n",
        "import time\n",
        "\n",
        "random.seed(0)\n",
        "np.random.seed(0)\n",
        "torch.manual_seed(0)\n",
        "torch.cuda.manual_seed(0)\n",
        "torch.backends.cudnn.deterministic = True\n",
        "\n",
        "import sklearn.datasets\n",
        "wine = sklearn.datasets.load_wine()\n",
        "wine.data.shape\n",
        "\n",
        "from sklearn.model_selection import train_test_split\n",
        "\n",
        "X_train, X_test, y_train, y_test = train_test_split(\n",
        "    wine.data[:, :2],\n",
        "    wine.target,\n",
        "    test_size=0.3,\n",
        "    shuffle=True)\n",
        "\n",
        "X_train = torch.FloatTensor(X_train)\n",
        "X_test = torch.FloatTensor(X_test)\n",
        "y_train = torch.LongTensor(y_train)\n",
        "y_test = torch.LongTensor(y_test)\n",
        "\n",
        "class WineNet(torch.nn.Module):\n",
        "    def __init__(self, n_hidden_neurons):\n",
        "        super(WineNet, self).__init__()\n",
        "        self.fc1 = torch.nn.Linear(2, n_hidden_neurons)\n",
        "        self.activ1 = torch.nn.Sigmoid()\n",
        "        self.fc2 = torch.nn.Linear(n_hidden_neurons, n_hidden_neurons)\n",
        "        self.activ2 = torch.nn.Sigmoid()\n",
        "        self.fc3 = torch.nn.Linear(n_hidden_neurons, 3)\n",
        "        self.sm = torch.nn.Softmax(dim=1)\n",
        "\n",
        "    def forward(self, x):\n",
        "      x = self.fc1(x)\n",
        "      x = self.activ1(x)\n",
        "      x = self.fc2(x)\n",
        "      x = self.activ2(x)\n",
        "      x = self.fc3(x)\n",
        "      return x\n",
        "\n",
        "    def inference(self, x):\n",
        "      x = self.forward(x)\n",
        "      x = self.sm(x)\n",
        "      return x\n",
        "\n",
        "\n",
        "wine_net = WineNet(15)\n",
        "loss = torch.nn.CrossEntropyLoss()\n",
        "optimizer = torch.optim.Adam(wine_net.parameters(), lr=0.001)\n",
        "#np.random.permutation(15)\n",
        "\n",
        "batch_size = 22\n",
        "\n",
        "time1 = time.time()\n",
        "\n",
        "for epoch in range(1000):\n",
        "    order = np.random.permutation(len(X_train))\n",
        "    for start_index in range(0, len(X_train), batch_size):\n",
        "      optimizer.zero_grad()\n",
        "\n",
        "      batch_indexes = order[start_index:start_index+batch_size]\n",
        "      x_batch = X_train[batch_indexes]\n",
        "      y_batch = y_train[batch_indexes]\n",
        "      pred = wine_net.forward(x_batch)\n",
        "      loss_value = loss(pred, y_batch)\n",
        "      loss_value.backward()\n",
        "\n",
        "      optimizer.step()\n",
        "\n",
        "\n",
        "    if epoch % 100 == 0:\n",
        "      test_preds = wine_net.forward(X_test)\n",
        "      test_preds = test_preds.argmax(dim=1)\n",
        "      #print((test_preds == y_test).float().mean())\n",
        "\n",
        "print(time.time() - time1)\n"
      ],
      "metadata": {
        "colab": {
          "base_uri": "https://localhost:8080/"
        },
        "id": "KaILE422VgD2",
        "outputId": "a3bde918-6b6d-43e4-d0d4-f6e09def13e5"
      },
      "execution_count": 33,
      "outputs": [
        {
          "output_type": "stream",
          "name": "stdout",
          "text": [
            "8.104328393936157\n"
          ]
        }
      ]
    },
    {
      "cell_type": "code",
      "source": [
        "import torch\n",
        "import random\n",
        "import numpy as np\n",
        "\n",
        "random.seed(0)\n",
        "np.random.seed(0)\n",
        "torch.manual_seed(0)\n",
        "torch.cuda.manual_seed(0)\n",
        "torch.backends.cudnn.deterministic = True\n",
        "\n",
        "import sklearn.datasets\n",
        "wine = sklearn.datasets.load_wine()\n",
        "wine.data.shape\n",
        "\n",
        "from sklearn.model_selection import train_test_split\n",
        "\n",
        "batch_s = [5, 13, 22]\n",
        "tm = [44.79, 13.78, 8.1]\n",
        "\n",
        "plt.plot(batch_s, tm, '-o')\n",
        "plt.xlabel('Batch Size')\n",
        "plt.ylabel('Time')\n",
        "plt.grid(True)\n",
        "plt.show()"
      ],
      "metadata": {
        "colab": {
          "base_uri": "https://localhost:8080/",
          "height": 696
        },
        "id": "0vC3l8izVwP5",
        "outputId": "0ba0e565-dac9-4765-cde1-44139a1ef62a"
      },
      "execution_count": 34,
      "outputs": [
        {
          "output_type": "display_data",
          "data": {
            "text/plain": [
              "<Figure size 1000x800 with 1 Axes>"
            ],
            "image/png": "[encoded data removed]"
          },
          "metadata": {}
        }
      ]
    },
    {
      "cell_type": "markdown",
      "source": [
        "The greater the Batch size, the faster is training time and the less the batch size, the slower is the training time."
      ],
      "metadata": {
        "id": "2mXYoEosTWz_"
      }
    }
  ],
  "metadata": {
    "anaconda-cloud": {},
    "kernelspec": {
      "display_name": "Python 3 (ipykernel)",
      "language": "python",
      "name": "python3"
    },
    "language_info": {
      "codemirror_mode": {
        "name": "ipython",
        "version": 3
      },
      "file_extension": ".py",
      "mimetype": "text/x-python",
      "name": "python",
      "nbconvert_exporter": "python",
      "pygments_lexer": "ipython3",
      "version": "3.10.5"
    },
    "colab": {
      "provenance": [],
      "include_colab_link": true
    }
  },
  "nbformat": 4,
  "nbformat_minor": 0
}